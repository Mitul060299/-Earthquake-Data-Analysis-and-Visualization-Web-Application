{
 "cells": [
  {
   "cell_type": "markdown",
   "id": "2f06808b-fda9-4968-b67a-078336653e41",
   "metadata": {},
   "source": [
    "# Assignment 3 – Pandas – Plotting – Publishing\n",
    "### By - Mitul Srivastava (C00313606)"
   ]
  },
  {
   "cell_type": "markdown",
   "id": "71074ea3-fdc2-494f-b0a2-38edb3f09b49",
   "metadata": {},
   "source": [
    "# quakes-clean.ipynb"
   ]
  },
  {
   "cell_type": "markdown",
   "id": "a489e077-5c51-4268-b29e-9958256306c3",
   "metadata": {},
   "source": [
    "### Installing and importing pandas"
   ]
  },
  {
   "cell_type": "code",
   "execution_count": 1,
   "id": "7c1db645-09b6-4e0c-8455-69d1db35385c",
   "metadata": {},
   "outputs": [
    {
     "name": "stdout",
     "output_type": "stream",
     "text": [
      "Requirement already satisfied: pandas in c:\\users\\mitul\\appdata\\local\\programs\\python\\python311\\lib\\site-packages (2.2.3)\n",
      "Requirement already satisfied: numpy>=1.23.2 in c:\\users\\mitul\\appdata\\local\\programs\\python\\python311\\lib\\site-packages (from pandas) (1.24.4)\n",
      "Requirement already satisfied: python-dateutil>=2.8.2 in c:\\users\\mitul\\appdata\\local\\programs\\python\\python311\\lib\\site-packages (from pandas) (2.9.0.post0)\n",
      "Requirement already satisfied: pytz>=2020.1 in c:\\users\\mitul\\appdata\\local\\programs\\python\\python311\\lib\\site-packages (from pandas) (2024.2)\n",
      "Requirement already satisfied: tzdata>=2022.7 in c:\\users\\mitul\\appdata\\local\\programs\\python\\python311\\lib\\site-packages (from pandas) (2024.2)\n",
      "Requirement already satisfied: six>=1.5 in c:\\users\\mitul\\appdata\\local\\programs\\python\\python311\\lib\\site-packages (from python-dateutil>=2.8.2->pandas) (1.17.0)\n"
     ]
    }
   ],
   "source": [
    "!pip install pandas \n",
    "import pandas as pd"
   ]
  },
  {
   "cell_type": "markdown",
   "id": "32213495-3b0d-457a-92c0-3338a5d3cc58",
   "metadata": {},
   "source": [
    "### Importing the earthquake data from URL and reading it using pandas read_csv "
   ]
  },
  {
   "cell_type": "code",
   "execution_count": 2,
   "id": "f126413f-d2a6-447d-8b8a-539ed7a17de2",
   "metadata": {},
   "outputs": [],
   "source": [
    "URL = \"https://earthquake.usgs.gov/earthquakes/feed/v1.0/summary/all_month.csv\""
   ]
  },
  {
   "cell_type": "code",
   "execution_count": 3,
   "id": "4f47ddbf-3b02-4ff1-ae0a-eb3c7c968224",
   "metadata": {},
   "outputs": [
    {
     "data": {
      "text/plain": [
       "(9808, 22)"
      ]
     },
     "execution_count": 3,
     "metadata": {},
     "output_type": "execute_result"
    }
   ],
   "source": [
    "df = pd.read_csv(URL)\n",
    "df.shape"
   ]
  },
  {
   "cell_type": "code",
   "execution_count": 4,
   "id": "e24ebf53-f8ed-4407-8d76-042dad6eff22",
   "metadata": {},
   "outputs": [
    {
     "data": {
      "text/html": [
       "<div>\n",
       "<style scoped>\n",
       "    .dataframe tbody tr th:only-of-type {\n",
       "        vertical-align: middle;\n",
       "    }\n",
       "\n",
       "    .dataframe tbody tr th {\n",
       "        vertical-align: top;\n",
       "    }\n",
       "\n",
       "    .dataframe thead th {\n",
       "        text-align: right;\n",
       "    }\n",
       "</style>\n",
       "<table border=\"1\" class=\"dataframe\">\n",
       "  <thead>\n",
       "    <tr style=\"text-align: right;\">\n",
       "      <th></th>\n",
       "      <th>time</th>\n",
       "      <th>latitude</th>\n",
       "      <th>longitude</th>\n",
       "      <th>depth</th>\n",
       "      <th>mag</th>\n",
       "      <th>magType</th>\n",
       "      <th>nst</th>\n",
       "      <th>gap</th>\n",
       "      <th>dmin</th>\n",
       "      <th>rms</th>\n",
       "      <th>...</th>\n",
       "      <th>updated</th>\n",
       "      <th>place</th>\n",
       "      <th>type</th>\n",
       "      <th>horizontalError</th>\n",
       "      <th>depthError</th>\n",
       "      <th>magError</th>\n",
       "      <th>magNst</th>\n",
       "      <th>status</th>\n",
       "      <th>locationSource</th>\n",
       "      <th>magSource</th>\n",
       "    </tr>\n",
       "  </thead>\n",
       "  <tbody>\n",
       "    <tr>\n",
       "      <th>0</th>\n",
       "      <td>2024-12-13T17:24:02.340Z</td>\n",
       "      <td>38.826332</td>\n",
       "      <td>-122.822830</td>\n",
       "      <td>3.42</td>\n",
       "      <td>0.44</td>\n",
       "      <td>md</td>\n",
       "      <td>7.0</td>\n",
       "      <td>102.00</td>\n",
       "      <td>0.01006</td>\n",
       "      <td>0.0200</td>\n",
       "      <td>...</td>\n",
       "      <td>2024-12-13T17:25:36.723Z</td>\n",
       "      <td>8 km NW of The Geysers, CA</td>\n",
       "      <td>earthquake</td>\n",
       "      <td>0.76</td>\n",
       "      <td>2.45</td>\n",
       "      <td>0.18</td>\n",
       "      <td>8.0</td>\n",
       "      <td>automatic</td>\n",
       "      <td>nc</td>\n",
       "      <td>nc</td>\n",
       "    </tr>\n",
       "    <tr>\n",
       "      <th>1</th>\n",
       "      <td>2024-12-13T17:18:28.567Z</td>\n",
       "      <td>60.289300</td>\n",
       "      <td>-141.071500</td>\n",
       "      <td>16.00</td>\n",
       "      <td>1.80</td>\n",
       "      <td>ml</td>\n",
       "      <td>NaN</td>\n",
       "      <td>NaN</td>\n",
       "      <td>NaN</td>\n",
       "      <td>0.8100</td>\n",
       "      <td>...</td>\n",
       "      <td>2024-12-13T17:20:44.422Z</td>\n",
       "      <td>111 km NW of Yakutat, Alaska</td>\n",
       "      <td>earthquake</td>\n",
       "      <td>NaN</td>\n",
       "      <td>0.40</td>\n",
       "      <td>NaN</td>\n",
       "      <td>NaN</td>\n",
       "      <td>automatic</td>\n",
       "      <td>ak</td>\n",
       "      <td>ak</td>\n",
       "    </tr>\n",
       "    <tr>\n",
       "      <th>2</th>\n",
       "      <td>2024-12-13T17:16:37.642Z</td>\n",
       "      <td>59.768400</td>\n",
       "      <td>-151.414600</td>\n",
       "      <td>44.60</td>\n",
       "      <td>1.80</td>\n",
       "      <td>ml</td>\n",
       "      <td>NaN</td>\n",
       "      <td>NaN</td>\n",
       "      <td>NaN</td>\n",
       "      <td>0.5400</td>\n",
       "      <td>...</td>\n",
       "      <td>2024-12-13T17:18:30.483Z</td>\n",
       "      <td>7 km WNW of Fritz Creek, Alaska</td>\n",
       "      <td>earthquake</td>\n",
       "      <td>NaN</td>\n",
       "      <td>1.20</td>\n",
       "      <td>NaN</td>\n",
       "      <td>NaN</td>\n",
       "      <td>automatic</td>\n",
       "      <td>ak</td>\n",
       "      <td>ak</td>\n",
       "    </tr>\n",
       "    <tr>\n",
       "      <th>3</th>\n",
       "      <td>2024-12-13T17:12:35.541Z</td>\n",
       "      <td>39.138100</td>\n",
       "      <td>-119.043700</td>\n",
       "      <td>1.40</td>\n",
       "      <td>1.60</td>\n",
       "      <td>ml</td>\n",
       "      <td>8.0</td>\n",
       "      <td>89.99</td>\n",
       "      <td>0.21600</td>\n",
       "      <td>0.1371</td>\n",
       "      <td>...</td>\n",
       "      <td>2024-12-13T17:15:56.024Z</td>\n",
       "      <td>19 km NNE of Yerington, Nevada</td>\n",
       "      <td>earthquake</td>\n",
       "      <td>NaN</td>\n",
       "      <td>15.20</td>\n",
       "      <td>0.29</td>\n",
       "      <td>4.0</td>\n",
       "      <td>automatic</td>\n",
       "      <td>nn</td>\n",
       "      <td>nn</td>\n",
       "    </tr>\n",
       "    <tr>\n",
       "      <th>4</th>\n",
       "      <td>2024-12-13T16:59:01.160Z</td>\n",
       "      <td>38.821999</td>\n",
       "      <td>-122.853333</td>\n",
       "      <td>2.81</td>\n",
       "      <td>1.52</td>\n",
       "      <td>md</td>\n",
       "      <td>34.0</td>\n",
       "      <td>55.00</td>\n",
       "      <td>0.00619</td>\n",
       "      <td>0.0200</td>\n",
       "      <td>...</td>\n",
       "      <td>2024-12-13T17:17:17.444Z</td>\n",
       "      <td>10 km NW of The Geysers, CA</td>\n",
       "      <td>earthquake</td>\n",
       "      <td>0.20</td>\n",
       "      <td>0.35</td>\n",
       "      <td>0.13</td>\n",
       "      <td>32.0</td>\n",
       "      <td>automatic</td>\n",
       "      <td>nc</td>\n",
       "      <td>nc</td>\n",
       "    </tr>\n",
       "  </tbody>\n",
       "</table>\n",
       "<p>5 rows × 22 columns</p>\n",
       "</div>"
      ],
      "text/plain": [
       "                       time   latitude   longitude  depth   mag magType   nst  \\\n",
       "0  2024-12-13T17:24:02.340Z  38.826332 -122.822830   3.42  0.44      md   7.0   \n",
       "1  2024-12-13T17:18:28.567Z  60.289300 -141.071500  16.00  1.80      ml   NaN   \n",
       "2  2024-12-13T17:16:37.642Z  59.768400 -151.414600  44.60  1.80      ml   NaN   \n",
       "3  2024-12-13T17:12:35.541Z  39.138100 -119.043700   1.40  1.60      ml   8.0   \n",
       "4  2024-12-13T16:59:01.160Z  38.821999 -122.853333   2.81  1.52      md  34.0   \n",
       "\n",
       "      gap     dmin     rms  ...                   updated  \\\n",
       "0  102.00  0.01006  0.0200  ...  2024-12-13T17:25:36.723Z   \n",
       "1     NaN      NaN  0.8100  ...  2024-12-13T17:20:44.422Z   \n",
       "2     NaN      NaN  0.5400  ...  2024-12-13T17:18:30.483Z   \n",
       "3   89.99  0.21600  0.1371  ...  2024-12-13T17:15:56.024Z   \n",
       "4   55.00  0.00619  0.0200  ...  2024-12-13T17:17:17.444Z   \n",
       "\n",
       "                             place        type horizontalError depthError  \\\n",
       "0       8 km NW of The Geysers, CA  earthquake            0.76       2.45   \n",
       "1     111 km NW of Yakutat, Alaska  earthquake             NaN       0.40   \n",
       "2  7 km WNW of Fritz Creek, Alaska  earthquake             NaN       1.20   \n",
       "3   19 km NNE of Yerington, Nevada  earthquake             NaN      15.20   \n",
       "4      10 km NW of The Geysers, CA  earthquake            0.20       0.35   \n",
       "\n",
       "   magError  magNst     status  locationSource magSource  \n",
       "0      0.18     8.0  automatic              nc        nc  \n",
       "1       NaN     NaN  automatic              ak        ak  \n",
       "2       NaN     NaN  automatic              ak        ak  \n",
       "3      0.29     4.0  automatic              nn        nn  \n",
       "4      0.13    32.0  automatic              nc        nc  \n",
       "\n",
       "[5 rows x 22 columns]"
      ]
     },
     "execution_count": 4,
     "metadata": {},
     "output_type": "execute_result"
    }
   ],
   "source": [
    "df.head()"
   ]
  },
  {
   "cell_type": "code",
   "execution_count": 5,
   "id": "8e9b459e-2fe9-47fe-8337-c663196def1d",
   "metadata": {},
   "outputs": [
    {
     "name": "stdout",
     "output_type": "stream",
     "text": [
      "<class 'pandas.core.frame.DataFrame'>\n",
      "RangeIndex: 9808 entries, 0 to 9807\n",
      "Data columns (total 22 columns):\n",
      " #   Column           Non-Null Count  Dtype  \n",
      "---  ------           --------------  -----  \n",
      " 0   time             9808 non-null   object \n",
      " 1   latitude         9808 non-null   float64\n",
      " 2   longitude        9808 non-null   float64\n",
      " 3   depth            9808 non-null   float64\n",
      " 4   mag              9806 non-null   float64\n",
      " 5   magType          9806 non-null   object \n",
      " 6   nst              8521 non-null   float64\n",
      " 7   gap              8520 non-null   float64\n",
      " 8   dmin             8489 non-null   float64\n",
      " 9   rms              9805 non-null   float64\n",
      " 10  net              9808 non-null   object \n",
      " 11  id               9808 non-null   object \n",
      " 12  updated          9808 non-null   object \n",
      " 13  place            9808 non-null   object \n",
      " 14  type             9808 non-null   object \n",
      " 15  horizontalError  7614 non-null   float64\n",
      " 16  depthError       9806 non-null   float64\n",
      " 17  magError         8467 non-null   float64\n",
      " 18  magNst           8520 non-null   float64\n",
      " 19  status           9808 non-null   object \n",
      " 20  locationSource   9808 non-null   object \n",
      " 21  magSource        9808 non-null   object \n",
      "dtypes: float64(12), object(10)\n",
      "memory usage: 1.6+ MB\n"
     ]
    }
   ],
   "source": [
    "df.info()"
   ]
  },
  {
   "cell_type": "markdown",
   "id": "c5df0031-fa34-49c0-9872-0603bb07faf1",
   "metadata": {},
   "source": [
    "### Droping the unwanted columns using drop()."
   ]
  },
  {
   "cell_type": "code",
   "execution_count": 6,
   "id": "be3d8bfa-52d0-487b-b7f8-76bbc98a4eee",
   "metadata": {},
   "outputs": [
    {
     "name": "stdout",
     "output_type": "stream",
     "text": [
      "<class 'pandas.core.frame.DataFrame'>\n",
      "RangeIndex: 9808 entries, 0 to 9807\n",
      "Data columns (total 11 columns):\n",
      " #   Column     Non-Null Count  Dtype  \n",
      "---  ------     --------------  -----  \n",
      " 0   time       9808 non-null   object \n",
      " 1   latitude   9808 non-null   float64\n",
      " 2   longitude  9808 non-null   float64\n",
      " 3   depth      9808 non-null   float64\n",
      " 4   mag        9806 non-null   float64\n",
      " 5   id         9808 non-null   object \n",
      " 6   updated    9808 non-null   object \n",
      " 7   place      9808 non-null   object \n",
      " 8   type       9808 non-null   object \n",
      " 9   magError   8467 non-null   float64\n",
      " 10  magNst     8520 non-null   float64\n",
      "dtypes: float64(6), object(5)\n",
      "memory usage: 843.0+ KB\n"
     ]
    }
   ],
   "source": [
    "df_dropped_columns = df.drop([\"magType\",\"nst\",\"gap\",\"dmin\",\"rms\",\"net\",\"horizontalError\",\"depthError\",\"locationSource\",\"magSource\",\"status\"],axis=1)\n",
    "df_dropped_columns.info()"
   ]
  },
  {
   "cell_type": "markdown",
   "id": "aa5fb2b2-dfdc-4897-b8c8-73086dd672a1",
   "metadata": {},
   "source": [
    "### Assigning the correct data types to the columns with default as object data type."
   ]
  },
  {
   "cell_type": "code",
   "execution_count": 7,
   "id": "9634ec23-76f3-40ab-8fdc-179fa9f58f57",
   "metadata": {},
   "outputs": [
    {
     "name": "stdout",
     "output_type": "stream",
     "text": [
      "<class 'pandas.core.frame.DataFrame'>\n",
      "RangeIndex: 9808 entries, 0 to 9807\n",
      "Data columns (total 11 columns):\n",
      " #   Column     Non-Null Count  Dtype              \n",
      "---  ------     --------------  -----              \n",
      " 0   time       9808 non-null   datetime64[ns, UTC]\n",
      " 1   latitude   9808 non-null   float64            \n",
      " 2   longitude  9808 non-null   float64            \n",
      " 3   depth      9808 non-null   float64            \n",
      " 4   mag        9806 non-null   float64            \n",
      " 5   id         9808 non-null   string             \n",
      " 6   updated    9808 non-null   datetime64[ns, UTC]\n",
      " 7   place      9808 non-null   string             \n",
      " 8   type       9808 non-null   category           \n",
      " 9   magError   8467 non-null   float64            \n",
      " 10  magNst     8520 non-null   Int64              \n",
      "dtypes: Int64(1), category(1), datetime64[ns, UTC](2), float64(5), string(2)\n",
      "memory usage: 785.7 KB\n"
     ]
    }
   ],
   "source": [
    "df_dropped_columns[\"place\"] = df_dropped_columns[\"place\"].astype(\"string\")\n",
    "df_dropped_columns[\"time\"] = pd.to_datetime(df_dropped_columns[\"time\"])\n",
    "df_dropped_columns[\"id\"] = df_dropped_columns[\"id\"].astype(\"string\")\n",
    "df_dropped_columns[\"updated\"] = pd.to_datetime(df_dropped_columns[\"updated\"])\n",
    "df_dropped_columns[\"type\"] = df_dropped_columns[\"type\"].astype(\"category\")\n",
    "df_dropped_columns[\"magNst\"] = df_dropped_columns[\"magNst\"].astype(\"Int64\")\n",
    "df_dropped_columns.info()"
   ]
  },
  {
   "cell_type": "markdown",
   "id": "0e89de4e-42bc-4899-9100-eae99858de3b",
   "metadata": {},
   "source": [
    "## Resolving Null values\n",
    "### 1. First in the \"mag\" column we see there are 2 rows having null values."
   ]
  },
  {
   "cell_type": "code",
   "execution_count": 8,
   "id": "e55b6b35-08c7-40a0-b1a3-62ed76ef8b83",
   "metadata": {},
   "outputs": [
    {
     "data": {
      "text/html": [
       "<div>\n",
       "<style scoped>\n",
       "    .dataframe tbody tr th:only-of-type {\n",
       "        vertical-align: middle;\n",
       "    }\n",
       "\n",
       "    .dataframe tbody tr th {\n",
       "        vertical-align: top;\n",
       "    }\n",
       "\n",
       "    .dataframe thead th {\n",
       "        text-align: right;\n",
       "    }\n",
       "</style>\n",
       "<table border=\"1\" class=\"dataframe\">\n",
       "  <thead>\n",
       "    <tr style=\"text-align: right;\">\n",
       "      <th></th>\n",
       "      <th>time</th>\n",
       "      <th>latitude</th>\n",
       "      <th>longitude</th>\n",
       "      <th>depth</th>\n",
       "      <th>mag</th>\n",
       "      <th>id</th>\n",
       "      <th>updated</th>\n",
       "      <th>place</th>\n",
       "      <th>type</th>\n",
       "      <th>magError</th>\n",
       "      <th>magNst</th>\n",
       "    </tr>\n",
       "  </thead>\n",
       "  <tbody>\n",
       "    <tr>\n",
       "      <th>8193</th>\n",
       "      <td>2024-11-19 18:17:40+00:00</td>\n",
       "      <td>35.96302</td>\n",
       "      <td>-120.13313</td>\n",
       "      <td>0.0</td>\n",
       "      <td>NaN</td>\n",
       "      <td>nc75088286</td>\n",
       "      <td>2024-11-25 19:15:38.286000+00:00</td>\n",
       "      <td>5 km SSW of Avenal, CA</td>\n",
       "      <td>sonic boom</td>\n",
       "      <td>NaN</td>\n",
       "      <td>&lt;NA&gt;</td>\n",
       "    </tr>\n",
       "    <tr>\n",
       "      <th>8194</th>\n",
       "      <td>2024-11-19 18:17:37+00:00</td>\n",
       "      <td>36.24927</td>\n",
       "      <td>-120.34372</td>\n",
       "      <td>0.0</td>\n",
       "      <td>NaN</td>\n",
       "      <td>nc75088281</td>\n",
       "      <td>2024-11-25 19:13:38.333000+00:00</td>\n",
       "      <td>12 km NNE of Coalinga, CA</td>\n",
       "      <td>sonic boom</td>\n",
       "      <td>NaN</td>\n",
       "      <td>&lt;NA&gt;</td>\n",
       "    </tr>\n",
       "  </tbody>\n",
       "</table>\n",
       "</div>"
      ],
      "text/plain": [
       "                          time  latitude  longitude  depth  mag          id  \\\n",
       "8193 2024-11-19 18:17:40+00:00  35.96302 -120.13313    0.0  NaN  nc75088286   \n",
       "8194 2024-11-19 18:17:37+00:00  36.24927 -120.34372    0.0  NaN  nc75088281   \n",
       "\n",
       "                              updated                      place        type  \\\n",
       "8193 2024-11-25 19:15:38.286000+00:00     5 km SSW of Avenal, CA  sonic boom   \n",
       "8194 2024-11-25 19:13:38.333000+00:00  12 km NNE of Coalinga, CA  sonic boom   \n",
       "\n",
       "      magError  magNst  \n",
       "8193       NaN    <NA>  \n",
       "8194       NaN    <NA>  "
      ]
     },
     "execution_count": 8,
     "metadata": {},
     "output_type": "execute_result"
    }
   ],
   "source": [
    "df_dropped_columns[df_dropped_columns[\"mag\"].isnull()]"
   ]
  },
  {
   "cell_type": "markdown",
   "id": "986eb3f7-3acf-4b9b-be23-855771b3712c",
   "metadata": {},
   "source": [
    "### 2. On further analysis we see that they are the same two rows where \"type\" is \"sonic boom\"."
   ]
  },
  {
   "cell_type": "code",
   "execution_count": 9,
   "id": "be07ad72-11bd-43f9-94c0-c84420f6a2c0",
   "metadata": {},
   "outputs": [
    {
     "data": {
      "text/html": [
       "<div>\n",
       "<style scoped>\n",
       "    .dataframe tbody tr th:only-of-type {\n",
       "        vertical-align: middle;\n",
       "    }\n",
       "\n",
       "    .dataframe tbody tr th {\n",
       "        vertical-align: top;\n",
       "    }\n",
       "\n",
       "    .dataframe thead th {\n",
       "        text-align: right;\n",
       "    }\n",
       "</style>\n",
       "<table border=\"1\" class=\"dataframe\">\n",
       "  <thead>\n",
       "    <tr style=\"text-align: right;\">\n",
       "      <th></th>\n",
       "      <th>time</th>\n",
       "      <th>latitude</th>\n",
       "      <th>longitude</th>\n",
       "      <th>depth</th>\n",
       "      <th>mag</th>\n",
       "      <th>id</th>\n",
       "      <th>updated</th>\n",
       "      <th>place</th>\n",
       "      <th>type</th>\n",
       "      <th>magError</th>\n",
       "      <th>magNst</th>\n",
       "    </tr>\n",
       "  </thead>\n",
       "  <tbody>\n",
       "    <tr>\n",
       "      <th>8193</th>\n",
       "      <td>2024-11-19 18:17:40+00:00</td>\n",
       "      <td>35.96302</td>\n",
       "      <td>-120.13313</td>\n",
       "      <td>0.0</td>\n",
       "      <td>NaN</td>\n",
       "      <td>nc75088286</td>\n",
       "      <td>2024-11-25 19:15:38.286000+00:00</td>\n",
       "      <td>5 km SSW of Avenal, CA</td>\n",
       "      <td>sonic boom</td>\n",
       "      <td>NaN</td>\n",
       "      <td>&lt;NA&gt;</td>\n",
       "    </tr>\n",
       "    <tr>\n",
       "      <th>8194</th>\n",
       "      <td>2024-11-19 18:17:37+00:00</td>\n",
       "      <td>36.24927</td>\n",
       "      <td>-120.34372</td>\n",
       "      <td>0.0</td>\n",
       "      <td>NaN</td>\n",
       "      <td>nc75088281</td>\n",
       "      <td>2024-11-25 19:13:38.333000+00:00</td>\n",
       "      <td>12 km NNE of Coalinga, CA</td>\n",
       "      <td>sonic boom</td>\n",
       "      <td>NaN</td>\n",
       "      <td>&lt;NA&gt;</td>\n",
       "    </tr>\n",
       "  </tbody>\n",
       "</table>\n",
       "</div>"
      ],
      "text/plain": [
       "                          time  latitude  longitude  depth  mag          id  \\\n",
       "8193 2024-11-19 18:17:40+00:00  35.96302 -120.13313    0.0  NaN  nc75088286   \n",
       "8194 2024-11-19 18:17:37+00:00  36.24927 -120.34372    0.0  NaN  nc75088281   \n",
       "\n",
       "                              updated                      place        type  \\\n",
       "8193 2024-11-25 19:15:38.286000+00:00     5 km SSW of Avenal, CA  sonic boom   \n",
       "8194 2024-11-25 19:13:38.333000+00:00  12 km NNE of Coalinga, CA  sonic boom   \n",
       "\n",
       "      magError  magNst  \n",
       "8193       NaN    <NA>  \n",
       "8194       NaN    <NA>  "
      ]
     },
     "execution_count": 9,
     "metadata": {},
     "output_type": "execute_result"
    }
   ],
   "source": [
    "df_dropped_columns[df_dropped_columns[\"type\"]== \"sonic boom\"]"
   ]
  },
  {
   "cell_type": "markdown",
   "id": "89881812-5071-42cd-9718-3994fd8fea06",
   "metadata": {},
   "source": [
    "### 3. Since, sonic boom is not an earthquake we assign a value of 0.00 to mag column."
   ]
  },
  {
   "cell_type": "code",
   "execution_count": 10,
   "id": "d46a44f2-c093-4680-a2e5-3ae047ce545d",
   "metadata": {},
   "outputs": [],
   "source": [
    "df_dropped_columns[\"mag\"] = df_dropped_columns[\"mag\"].fillna(value=0.00)"
   ]
  },
  {
   "cell_type": "code",
   "execution_count": 11,
   "id": "b98de367-9d17-49d5-b554-d436c00307bc",
   "metadata": {},
   "outputs": [
    {
     "name": "stdout",
     "output_type": "stream",
     "text": [
      "<class 'pandas.core.frame.DataFrame'>\n",
      "RangeIndex: 9808 entries, 0 to 9807\n",
      "Data columns (total 11 columns):\n",
      " #   Column     Non-Null Count  Dtype              \n",
      "---  ------     --------------  -----              \n",
      " 0   time       9808 non-null   datetime64[ns, UTC]\n",
      " 1   latitude   9808 non-null   float64            \n",
      " 2   longitude  9808 non-null   float64            \n",
      " 3   depth      9808 non-null   float64            \n",
      " 4   mag        9808 non-null   float64            \n",
      " 5   id         9808 non-null   string             \n",
      " 6   updated    9808 non-null   datetime64[ns, UTC]\n",
      " 7   place      9808 non-null   string             \n",
      " 8   type       9808 non-null   category           \n",
      " 9   magError   8467 non-null   float64            \n",
      " 10  magNst     8520 non-null   Int64              \n",
      "dtypes: Int64(1), category(1), datetime64[ns, UTC](2), float64(5), string(2)\n",
      "memory usage: 785.7 KB\n"
     ]
    }
   ],
   "source": [
    "df_dropped_columns.info()"
   ]
  },
  {
   "cell_type": "markdown",
   "id": "c97764f9-ad53-4fdd-8f4c-79701c873fb2",
   "metadata": {},
   "source": [
    "### 4. For the columns \"magError\" and \"magNst\" we provide default lowest values which will be \"0.00\" for magError and \"1\" for \"magNst\" because there will be atleast 1 station there to measure the data value because of which we have that entry."
   ]
  },
  {
   "cell_type": "code",
   "execution_count": 12,
   "id": "28209378-e25e-4188-a43d-859e51cad28c",
   "metadata": {
    "scrolled": true
   },
   "outputs": [
    {
     "name": "stdout",
     "output_type": "stream",
     "text": [
      "<class 'pandas.core.frame.DataFrame'>\n",
      "RangeIndex: 9808 entries, 0 to 9807\n",
      "Data columns (total 11 columns):\n",
      " #   Column     Non-Null Count  Dtype              \n",
      "---  ------     --------------  -----              \n",
      " 0   time       9808 non-null   datetime64[ns, UTC]\n",
      " 1   latitude   9808 non-null   float64            \n",
      " 2   longitude  9808 non-null   float64            \n",
      " 3   depth      9808 non-null   float64            \n",
      " 4   mag        9808 non-null   float64            \n",
      " 5   id         9808 non-null   string             \n",
      " 6   updated    9808 non-null   datetime64[ns, UTC]\n",
      " 7   place      9808 non-null   string             \n",
      " 8   type       9808 non-null   category           \n",
      " 9   magError   9808 non-null   float64            \n",
      " 10  magNst     9808 non-null   Int64              \n",
      "dtypes: Int64(1), category(1), datetime64[ns, UTC](2), float64(5), string(2)\n",
      "memory usage: 785.7 KB\n"
     ]
    }
   ],
   "source": [
    "df_dropped_columns[\"magError\"] = df_dropped_columns[\"magError\"].fillna(value=0.00)\n",
    "df_dropped_columns[\"magNst\"] = df_dropped_columns[\"magNst\"].fillna(value=1)\n",
    "df_dropped_columns.info()"
   ]
  },
  {
   "cell_type": "markdown",
   "id": "e5dd2abe-52f2-46a5-b8e2-424d1bad2283",
   "metadata": {},
   "source": [
    "### Writing the cleaned dataframe into a csv file named \"quakes-cleaned.csv\""
   ]
  },
  {
   "cell_type": "code",
   "execution_count": 13,
   "id": "3e9e57b5-e5a2-44cb-a4a5-84316ce1a691",
   "metadata": {},
   "outputs": [],
   "source": [
    "df_dropped_columns.to_csv(\"quakes-cleaned.csv\")"
   ]
  }
 ],
 "metadata": {
  "kernelspec": {
   "display_name": "Python 3 (ipykernel)",
   "language": "python",
   "name": "python3"
  },
  "language_info": {
   "codemirror_mode": {
    "name": "ipython",
    "version": 3
   },
   "file_extension": ".py",
   "mimetype": "text/x-python",
   "name": "python",
   "nbconvert_exporter": "python",
   "pygments_lexer": "ipython3",
   "version": "3.11.9"
  }
 },
 "nbformat": 4,
 "nbformat_minor": 5
}
