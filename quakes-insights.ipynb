{
 "cells": [
  {
   "cell_type": "markdown",
   "id": "52fa66f9-2529-4c1a-8165-1313ca7ef64a",
   "metadata": {},
   "source": [
    "# Assignment 3 – Pandas – Plotting – Publishing"
   ]
  },
  {
   "cell_type": "markdown",
   "id": "d980088f-16df-4b36-9055-fdf892e39a73",
   "metadata": {},
   "source": [
    "## quakes-insights.ipynb"
   ]
  },
  {
   "cell_type": "code",
   "execution_count": 1,
   "id": "7e6c62e9-9f23-44c1-831c-bafb3b05a76c",
   "metadata": {},
   "outputs": [],
   "source": [
    "import pandas as pd"
   ]
  },
  {
   "cell_type": "markdown",
   "id": "a84fdcdd-f67d-472e-8294-74918e25a42d",
   "metadata": {},
   "source": [
    "### Reading \"quakes-cleaned.csv\" created in quakes-clean.ipynb"
   ]
  },
  {
   "cell_type": "code",
   "execution_count": 2,
   "id": "df7c95a6-7e4e-4335-b7d3-05584cef2be1",
   "metadata": {},
   "outputs": [],
   "source": [
    "df = pd.read_csv(\"quakes-cleaned.csv\")"
   ]
  },
  {
   "cell_type": "markdown",
   "id": "26124a6e-126b-40a5-9087-11b1b6aece91",
   "metadata": {},
   "source": [
    "## Insight 1 : Find the \"Most active Local Area\".\n",
    "### Counting the number of times each place names come in the dataset."
   ]
  },
  {
   "cell_type": "code",
   "execution_count": 3,
   "id": "bb2487f4-cc7a-4569-90f8-21102cce1f3c",
   "metadata": {},
   "outputs": [
    {
     "name": "stdout",
     "output_type": "stream",
     "text": [
      "The most seismically active area is 'CA' with 3265 events.\n"
     ]
    }
   ],
   "source": [
    "df['local_area'] = df['place'].str.split(',').str[-1].str.strip()\n",
    "df.loc[df[\"local_area\"] == \"California Earthquake\", \"local_area\"] = \"CA\"\n",
    "df['local_area'].unique()\n",
    "area_counts = df['local_area'].value_counts()\n",
    "most_active_area = area_counts.idxmax()\n",
    "most_active_count = area_counts.max()\n",
    "print(f\"The most seismically active area is '{most_active_area}' with {most_active_count} events.\")"
   ]
  },
  {
   "cell_type": "markdown",
   "id": "868817e1-58d0-4d2d-8d59-ee637414afe7",
   "metadata": {},
   "source": [
    "## Insight 2 : Largest Magnitude event at each location and the highest one recorded. \n",
    "### Selecting \"local_area\" and \"mag\" and arranging them in descending order."
   ]
  },
  {
   "cell_type": "code",
   "execution_count": 4,
   "id": "d437a6c2-54be-428b-8274-a102271304ea",
   "metadata": {},
   "outputs": [
    {
     "name": "stdout",
     "output_type": "stream",
     "text": [
      "Largest magnitude event recorded and its place:\n",
      "     local_area  mag\n",
      "3063         CA  7.0\n",
      "Largest magnitude event at each place:\n",
      "            local_area   mag\n",
      "3063                CA  7.00\n",
      "9384  Papua New Guinea  6.60\n",
      "1662            Alaska  6.30\n",
      "6300             Japan  6.10\n",
      "1854     Kuril Islands  6.00\n",
      "...                ...   ...\n",
      "6723              Ohio  1.80\n",
      "5714          Virginia  1.75\n",
      "6362          Colorado  1.70\n",
      "8449     Massachusetts  1.70\n",
      "6260        New Jersey  1.50\n",
      "\n",
      "[134 rows x 2 columns]\n"
     ]
    }
   ],
   "source": [
    "largest_events_by_place = df.loc[df.groupby('local_area')['mag'].idxmax()]\n",
    "result = largest_events_by_place[['local_area', 'mag']]\n",
    "result = result.sort_values(by='mag', ascending=False)\n",
    "print(\"Largest magnitude event recorded and its place:\")\n",
    "print(result.head(1))\n",
    "print(\"Largest magnitude event at each place:\")\n",
    "print(result)"
   ]
  },
  {
   "cell_type": "markdown",
   "id": "4711bcd6-4430-4d33-a194-c3a813131f56",
   "metadata": {},
   "source": [
    "## Insight 3 : The average error for magnitude decreases with increase in stations.\n",
    "### If we see the average_mag_error below the error for station 1,2,3 is more than the stations 506, 516. The graph in the plots section shows this trend better."
   ]
  },
  {
   "cell_type": "code",
   "execution_count": 5,
   "id": "8599c245-30c9-4fc8-8e6f-03782d6d22f3",
   "metadata": {},
   "outputs": [
    {
     "data": {
      "text/plain": [
       "magNst\n",
       "0      0.000000\n",
       "1      0.000194\n",
       "2      0.168350\n",
       "3      0.241494\n",
       "4      0.225366\n",
       "         ...   \n",
       "341    0.031000\n",
       "456    0.027000\n",
       "506    0.025000\n",
       "511    0.025000\n",
       "516    0.025000\n",
       "Name: magError, Length: 174, dtype: float64"
      ]
     },
     "execution_count": 5,
     "metadata": {},
     "output_type": "execute_result"
    }
   ],
   "source": [
    "average_mag_error = df.groupby('magNst')['magError'].mean()\n",
    "average_mag_error"
   ]
  },
  {
   "cell_type": "markdown",
   "id": "6c6e9304-2b75-4f7b-ac55-f42acb6debb9",
   "metadata": {},
   "source": [
    "## Insights 4 : Comparison between the frequency of earthquakes between northern and southern half of earth.\n",
    "### We see that the number of earthquakes in North are much higher than Southern part of earth."
   ]
  },
  {
   "cell_type": "code",
   "execution_count": 6,
   "id": "763b8586-fc2a-4d21-962f-63c283bcc07c",
   "metadata": {},
   "outputs": [
    {
     "data": {
      "text/html": [
       "<div>\n",
       "<style scoped>\n",
       "    .dataframe tbody tr th:only-of-type {\n",
       "        vertical-align: middle;\n",
       "    }\n",
       "\n",
       "    .dataframe tbody tr th {\n",
       "        vertical-align: top;\n",
       "    }\n",
       "\n",
       "    .dataframe thead th {\n",
       "        text-align: right;\n",
       "    }\n",
       "</style>\n",
       "<table border=\"1\" class=\"dataframe\">\n",
       "  <thead>\n",
       "    <tr style=\"text-align: right;\">\n",
       "      <th></th>\n",
       "      <th>latitude_group</th>\n",
       "      <th>count</th>\n",
       "    </tr>\n",
       "  </thead>\n",
       "  <tbody>\n",
       "    <tr>\n",
       "      <th>0</th>\n",
       "      <td>North</td>\n",
       "      <td>9471</td>\n",
       "    </tr>\n",
       "    <tr>\n",
       "      <th>1</th>\n",
       "      <td>South</td>\n",
       "      <td>337</td>\n",
       "    </tr>\n",
       "  </tbody>\n",
       "</table>\n",
       "</div>"
      ],
      "text/plain": [
       "  latitude_group  count\n",
       "0          North   9471\n",
       "1          South    337"
      ]
     },
     "execution_count": 6,
     "metadata": {},
     "output_type": "execute_result"
    }
   ],
   "source": [
    "latitude_freq = df['latitude'].value_counts().reset_index()\n",
    "latitude_freq.columns = ['latitude', 'frequency']\n",
    "latitude_freq\n",
    "\n",
    "df['latitude_group'] = df['latitude'].apply(lambda x: 'North' if x >= 0 else 'South')\n",
    "latitude_group_counts = df['latitude_group'].value_counts().reset_index()\n",
    "latitude_group_counts"
   ]
  },
  {
   "cell_type": "markdown",
   "id": "8ac4196c-e27a-4e20-a8d8-fd6cb62897b6",
   "metadata": {},
   "source": [
    "## Insights 5 : Comparison between the frequency of earthquakes between Eastern and Western half of earth.\n",
    "### We see that the number of earthquakes in West are much higher than Eastern part of earth."
   ]
  },
  {
   "cell_type": "code",
   "execution_count": 7,
   "id": "470c7bfa-6913-4b65-80d4-379076020c9d",
   "metadata": {},
   "outputs": [
    {
     "data": {
      "text/html": [
       "<div>\n",
       "<style scoped>\n",
       "    .dataframe tbody tr th:only-of-type {\n",
       "        vertical-align: middle;\n",
       "    }\n",
       "\n",
       "    .dataframe tbody tr th {\n",
       "        vertical-align: top;\n",
       "    }\n",
       "\n",
       "    .dataframe thead th {\n",
       "        text-align: right;\n",
       "    }\n",
       "</style>\n",
       "<table border=\"1\" class=\"dataframe\">\n",
       "  <thead>\n",
       "    <tr style=\"text-align: right;\">\n",
       "      <th></th>\n",
       "      <th>longitude_group</th>\n",
       "      <th>count</th>\n",
       "    </tr>\n",
       "  </thead>\n",
       "  <tbody>\n",
       "    <tr>\n",
       "      <th>0</th>\n",
       "      <td>West</td>\n",
       "      <td>9348</td>\n",
       "    </tr>\n",
       "    <tr>\n",
       "      <th>1</th>\n",
       "      <td>East</td>\n",
       "      <td>460</td>\n",
       "    </tr>\n",
       "  </tbody>\n",
       "</table>\n",
       "</div>"
      ],
      "text/plain": [
       "  longitude_group  count\n",
       "0            West   9348\n",
       "1            East    460"
      ]
     },
     "execution_count": 7,
     "metadata": {},
     "output_type": "execute_result"
    }
   ],
   "source": [
    "longitude_freq = df['longitude'].value_counts().reset_index()\n",
    "longitude_freq.columns = ['longitude', 'frequency']\n",
    "longitude_freq\n",
    "\n",
    "df['longitude_group'] = df['longitude'].apply(lambda x: 'East' if x >= 0 else 'West')\n",
    "longitude_group_counts = df['longitude_group'].value_counts().reset_index()\n",
    "longitude_group_counts"
   ]
  },
  {
   "cell_type": "code",
   "execution_count": null,
   "id": "e05325ee-c813-413e-9e3f-c86cbf4df0f1",
   "metadata": {},
   "outputs": [],
   "source": []
  }
 ],
 "metadata": {
  "kernelspec": {
   "display_name": "Python 3 (ipykernel)",
   "language": "python",
   "name": "python3"
  },
  "language_info": {
   "codemirror_mode": {
    "name": "ipython",
    "version": 3
   },
   "file_extension": ".py",
   "mimetype": "text/x-python",
   "name": "python",
   "nbconvert_exporter": "python",
   "pygments_lexer": "ipython3",
   "version": "3.11.9"
  }
 },
 "nbformat": 4,
 "nbformat_minor": 5
}
